{
 "cells": [
  {
   "cell_type": "markdown",
   "metadata": {},
   "source": [
    "### Credit Scoring with Xgboost\n",
    "\n",
    "Take the cleaned data and selected features from step 1 & step2 for modelling\n",
    "\n",
    "**Pros of Xgboost:**\n",
    "- XGBoost support parallel processing in tree splitting\n",
    "- XGBoost provides regularization options to avoid overfitting.\n",
    "- Traditional GBDT use decision tree as classifier, while XGBoost support multiple classifiers.\n",
    "- GBDT use first derivatives to minimise loss function while XGBoost apply second-order Taylor expansion on the loss function, which is faster and more accurate.\n",
    "- GBDT use all training sample in every iteration while XGBoost support random sampling like random forest\n",
    "- XGBoost has a built-in routine to handle missing values\n",
    "- XGBoost has Built-in Cross-Validation\n",
    "- GBDT is a greedy algorithm as it stops when it encounters a negative loss in the split while XGBoost splits upto the max_depth specified and then start pruning the tree backwards and remove splits beyond which there is no positive gain.\n",
    "\n",
    "**Cons of Xgboost:**\n",
    "- Time consuming for hyper-parameter tuning\n",
    "\n",
    "**Aim**\n",
    "- In this notebook, I will apply the xgboost model to predict the default, and tune the hyper parameter with cross-validattiion based on package **scikit-learn**"
   ]
  },
  {
   "cell_type": "code",
   "execution_count": null,
   "metadata": {},
   "outputs": [],
   "source": [
    "import numpy as np \n",
    "import pandas as pd\n",
    "import matplotlib as mp\n",
    "import matplotlib.pyplot as plt\n",
    "import matplotlib.gridspec as gridspec\n",
    "import seaborn as sns\n",
    "plt.style.use('fivethirtyeight')\n",
    "\n",
    "# Pandas options\n",
    "pd.set_option('display.max_colwidth', 1000, 'display.max_rows', 1000, 'display.max_columns', None)\n",
    "\n",
    "# Plotting options\n",
    "%matplotlib inline\n",
    "mp.style.use('ggplot')\n",
    "sns.set(style='whitegrid')\n",
    "\n",
    "from sklearn.metrics import make_scorer\n",
    "from sklearn.metrics import accuracy_score\n",
    "from sklearn.decomposition import PCA \n",
    "from sklearn.feature_selection import f_classif\n",
    "from sklearn.pipeline import make_pipeline\n",
    "from sklearn.model_selection import train_test_split, KFold, cross_val_score, GridSearchCV\n",
    "from sklearn.linear_model import ElasticNet, Ridge, Lasso,  BayesianRidge, LassoLarsIC\n",
    "from sklearn.kernel_ridge import KernelRidge\n",
    "from sklearn.model_selection import GridSearchCV\n",
    "from sklearn.model_selection import RandomizedSearchCV\n",
    "from sklearn.ensemble import RandomForestRegressor,  GradientBoostingRegressor\n",
    "import xgboost as xgb\n",
    "import lightgbm as lgb\n",
    "\n",
    "from sklearn import metrics\n",
    "import warnings\n",
    "warnings.filterwarnings('ignore')"
   ]
  },
  {
   "cell_type": "code",
   "execution_count": 2,
   "metadata": {},
   "outputs": [],
   "source": [
    "df = pd.read_json('input/CleanedData.json', orient='table')\n",
    "df = df[[c for c in df if c not in ['loan_status']] + ['loan_status']]"
   ]
  },
  {
   "cell_type": "code",
   "execution_count": 3,
   "metadata": {},
   "outputs": [
    {
     "data": {
      "text/html": [
       "<div>\n",
       "<style scoped>\n",
       "    .dataframe tbody tr th:only-of-type {\n",
       "        vertical-align: middle;\n",
       "    }\n",
       "\n",
       "    .dataframe tbody tr th {\n",
       "        vertical-align: top;\n",
       "    }\n",
       "\n",
       "    .dataframe thead th {\n",
       "        text-align: right;\n",
       "    }\n",
       "</style>\n",
       "<table border=\"1\" class=\"dataframe\">\n",
       "  <thead>\n",
       "    <tr style=\"text-align: right;\">\n",
       "      <th></th>\n",
       "      <th>loan_amnt</th>\n",
       "      <th>term</th>\n",
       "      <th>emp_length</th>\n",
       "      <th>home_ownership</th>\n",
       "      <th>annual_inc</th>\n",
       "      <th>dti</th>\n",
       "      <th>delinq_2yrs</th>\n",
       "      <th>fico_range_low</th>\n",
       "      <th>inq_last_6mths</th>\n",
       "      <th>mths_since_last_delinq</th>\n",
       "      <th>mths_since_last_record</th>\n",
       "      <th>open_acc</th>\n",
       "      <th>pub_rec</th>\n",
       "      <th>revol_bal</th>\n",
       "      <th>revol_util</th>\n",
       "      <th>total_acc</th>\n",
       "      <th>mths_since_last_major_derog</th>\n",
       "      <th>acc_now_delinq</th>\n",
       "      <th>open_acc_6m</th>\n",
       "      <th>open_act_il</th>\n",
       "      <th>open_il_12m</th>\n",
       "      <th>open_il_24m</th>\n",
       "      <th>mths_since_rcnt_il</th>\n",
       "      <th>total_bal_il</th>\n",
       "      <th>il_util</th>\n",
       "      <th>open_rv_12m</th>\n",
       "      <th>open_rv_24m</th>\n",
       "      <th>max_bal_bc</th>\n",
       "      <th>all_util</th>\n",
       "      <th>total_rev_hi_lim</th>\n",
       "      <th>inq_fi</th>\n",
       "      <th>total_cu_tl</th>\n",
       "      <th>inq_last_12m</th>\n",
       "      <th>avg_cur_bal</th>\n",
       "      <th>bc_open_to_buy</th>\n",
       "      <th>chargeoff_within_12_mths</th>\n",
       "      <th>delinq_amnt</th>\n",
       "      <th>mo_sin_old_il_acct</th>\n",
       "      <th>mo_sin_old_rev_tl_op</th>\n",
       "      <th>mo_sin_rcnt_rev_tl_op</th>\n",
       "      <th>mo_sin_rcnt_tl</th>\n",
       "      <th>mort_acc</th>\n",
       "      <th>mths_since_recent_bc</th>\n",
       "      <th>mths_since_recent_bc_dlq</th>\n",
       "      <th>mths_since_recent_inq</th>\n",
       "      <th>num_accts_ever_120_pd</th>\n",
       "      <th>num_actv_bc_tl</th>\n",
       "      <th>num_bc_sats</th>\n",
       "      <th>num_bc_tl</th>\n",
       "      <th>num_il_tl</th>\n",
       "      <th>num_tl_90g_dpd_24m</th>\n",
       "      <th>pct_tl_nvr_dlq</th>\n",
       "      <th>tax_liens</th>\n",
       "      <th>tot_hi_cred_lim</th>\n",
       "      <th>earliest_cr_line_length</th>\n",
       "      <th>is_manager</th>\n",
       "      <th>is_teacher</th>\n",
       "      <th>title_car financing</th>\n",
       "      <th>title_credit card refinancing</th>\n",
       "      <th>title_debt consolidation</th>\n",
       "      <th>title_green loan</th>\n",
       "      <th>title_home buying</th>\n",
       "      <th>title_home improvement</th>\n",
       "      <th>title_major purchase</th>\n",
       "      <th>title_medical expenses</th>\n",
       "      <th>title_moving and relocation</th>\n",
       "      <th>title_other</th>\n",
       "      <th>title_vacation</th>\n",
       "      <th>application_type_joint app</th>\n",
       "      <th>disbursement_method_directpay</th>\n",
       "      <th>emp_length_present</th>\n",
       "      <th>mths_since_last_delinq_present</th>\n",
       "      <th>mths_since_last_record_present</th>\n",
       "      <th>revol_util_present</th>\n",
       "      <th>mths_since_last_major_derog_present</th>\n",
       "      <th>mths_since_rcnt_il_present</th>\n",
       "      <th>il_util_present</th>\n",
       "      <th>all_util_present</th>\n",
       "      <th>avg_cur_bal_present</th>\n",
       "      <th>bc_open_to_buy_present</th>\n",
       "      <th>mo_sin_old_il_acct_present</th>\n",
       "      <th>mths_since_recent_bc_present</th>\n",
       "      <th>mths_since_recent_bc_dlq_present</th>\n",
       "      <th>mths_since_recent_inq_present</th>\n",
       "      <th>pct_tl_nvr_dlq_present</th>\n",
       "      <th>loan_status</th>\n",
       "    </tr>\n",
       "  </thead>\n",
       "  <tbody>\n",
       "    <tr>\n",
       "      <th>421101</th>\n",
       "      <td>3000.0</td>\n",
       "      <td>36.0</td>\n",
       "      <td>9.0</td>\n",
       "      <td>5</td>\n",
       "      <td>52000.0</td>\n",
       "      <td>0.58</td>\n",
       "      <td>0.0</td>\n",
       "      <td>760.0</td>\n",
       "      <td>0.0</td>\n",
       "      <td>26.0</td>\n",
       "      <td>NaN</td>\n",
       "      <td>7.0</td>\n",
       "      <td>0.0</td>\n",
       "      <td>141.0</td>\n",
       "      <td>0.5</td>\n",
       "      <td>30.0</td>\n",
       "      <td>NaN</td>\n",
       "      <td>0.0</td>\n",
       "      <td>0.0</td>\n",
       "      <td>0.0</td>\n",
       "      <td>1.0</td>\n",
       "      <td>2.0</td>\n",
       "      <td>7.0</td>\n",
       "      <td>0.0</td>\n",
       "      <td>NaN</td>\n",
       "      <td>0.0</td>\n",
       "      <td>1.0</td>\n",
       "      <td>141.0</td>\n",
       "      <td>1.0</td>\n",
       "      <td>31000.0</td>\n",
       "      <td>1.0</td>\n",
       "      <td>2.0</td>\n",
       "      <td>2.0</td>\n",
       "      <td>25099.0</td>\n",
       "      <td>30359.0</td>\n",
       "      <td>0.0</td>\n",
       "      <td>0.0</td>\n",
       "      <td>132.0</td>\n",
       "      <td>242.0</td>\n",
       "      <td>18.0</td>\n",
       "      <td>7.0</td>\n",
       "      <td>4.0</td>\n",
       "      <td>18.0</td>\n",
       "      <td>NaN</td>\n",
       "      <td>7.0</td>\n",
       "      <td>0.0</td>\n",
       "      <td>1.0</td>\n",
       "      <td>4.0</td>\n",
       "      <td>15.0</td>\n",
       "      <td>7.0</td>\n",
       "      <td>0.0</td>\n",
       "      <td>96.7</td>\n",
       "      <td>0.0</td>\n",
       "      <td>191216.0</td>\n",
       "      <td>7364</td>\n",
       "      <td>0</td>\n",
       "      <td>0</td>\n",
       "      <td>0</td>\n",
       "      <td>0</td>\n",
       "      <td>0</td>\n",
       "      <td>0</td>\n",
       "      <td>0</td>\n",
       "      <td>0</td>\n",
       "      <td>1</td>\n",
       "      <td>0</td>\n",
       "      <td>0</td>\n",
       "      <td>0</td>\n",
       "      <td>0</td>\n",
       "      <td>0</td>\n",
       "      <td>0</td>\n",
       "      <td>1</td>\n",
       "      <td>1</td>\n",
       "      <td>0</td>\n",
       "      <td>1</td>\n",
       "      <td>0</td>\n",
       "      <td>1</td>\n",
       "      <td>0</td>\n",
       "      <td>1</td>\n",
       "      <td>1</td>\n",
       "      <td>1</td>\n",
       "      <td>1</td>\n",
       "      <td>1</td>\n",
       "      <td>0</td>\n",
       "      <td>1</td>\n",
       "      <td>1</td>\n",
       "      <td>0</td>\n",
       "    </tr>\n",
       "    <tr>\n",
       "      <th>421113</th>\n",
       "      <td>5000.0</td>\n",
       "      <td>36.0</td>\n",
       "      <td>10.0</td>\n",
       "      <td>4</td>\n",
       "      <td>55000.0</td>\n",
       "      <td>14.18</td>\n",
       "      <td>0.0</td>\n",
       "      <td>675.0</td>\n",
       "      <td>0.0</td>\n",
       "      <td>74.0</td>\n",
       "      <td>82.0</td>\n",
       "      <td>14.0</td>\n",
       "      <td>1.0</td>\n",
       "      <td>11449.0</td>\n",
       "      <td>33.9</td>\n",
       "      <td>24.0</td>\n",
       "      <td>74.0</td>\n",
       "      <td>0.0</td>\n",
       "      <td>1.0</td>\n",
       "      <td>1.0</td>\n",
       "      <td>0.0</td>\n",
       "      <td>0.0</td>\n",
       "      <td>33.0</td>\n",
       "      <td>17431.0</td>\n",
       "      <td>63.0</td>\n",
       "      <td>2.0</td>\n",
       "      <td>2.0</td>\n",
       "      <td>4829.0</td>\n",
       "      <td>47.0</td>\n",
       "      <td>33800.0</td>\n",
       "      <td>0.0</td>\n",
       "      <td>1.0</td>\n",
       "      <td>1.0</td>\n",
       "      <td>2222.0</td>\n",
       "      <td>10551.0</td>\n",
       "      <td>0.0</td>\n",
       "      <td>0.0</td>\n",
       "      <td>77.0</td>\n",
       "      <td>199.0</td>\n",
       "      <td>3.0</td>\n",
       "      <td>3.0</td>\n",
       "      <td>0.0</td>\n",
       "      <td>3.0</td>\n",
       "      <td>NaN</td>\n",
       "      <td>12.0</td>\n",
       "      <td>1.0</td>\n",
       "      <td>3.0</td>\n",
       "      <td>4.0</td>\n",
       "      <td>7.0</td>\n",
       "      <td>6.0</td>\n",
       "      <td>0.0</td>\n",
       "      <td>95.7</td>\n",
       "      <td>0.0</td>\n",
       "      <td>61551.0</td>\n",
       "      <td>6056</td>\n",
       "      <td>0</td>\n",
       "      <td>0</td>\n",
       "      <td>0</td>\n",
       "      <td>0</td>\n",
       "      <td>0</td>\n",
       "      <td>0</td>\n",
       "      <td>0</td>\n",
       "      <td>0</td>\n",
       "      <td>0</td>\n",
       "      <td>0</td>\n",
       "      <td>0</td>\n",
       "      <td>1</td>\n",
       "      <td>0</td>\n",
       "      <td>0</td>\n",
       "      <td>0</td>\n",
       "      <td>1</td>\n",
       "      <td>1</td>\n",
       "      <td>1</td>\n",
       "      <td>1</td>\n",
       "      <td>1</td>\n",
       "      <td>1</td>\n",
       "      <td>1</td>\n",
       "      <td>1</td>\n",
       "      <td>1</td>\n",
       "      <td>1</td>\n",
       "      <td>1</td>\n",
       "      <td>1</td>\n",
       "      <td>0</td>\n",
       "      <td>1</td>\n",
       "      <td>1</td>\n",
       "      <td>0</td>\n",
       "    </tr>\n",
       "  </tbody>\n",
       "</table>\n",
       "</div>"
      ],
      "text/plain": [
       "        loan_amnt  term  emp_length  home_ownership  annual_inc    dti  \\\n",
       "421101     3000.0  36.0         9.0               5     52000.0   0.58   \n",
       "421113     5000.0  36.0        10.0               4     55000.0  14.18   \n",
       "\n",
       "        delinq_2yrs  fico_range_low  inq_last_6mths  mths_since_last_delinq  \\\n",
       "421101          0.0           760.0             0.0                    26.0   \n",
       "421113          0.0           675.0             0.0                    74.0   \n",
       "\n",
       "        mths_since_last_record  open_acc  pub_rec  revol_bal  revol_util  \\\n",
       "421101                     NaN       7.0      0.0      141.0         0.5   \n",
       "421113                    82.0      14.0      1.0    11449.0        33.9   \n",
       "\n",
       "        total_acc  mths_since_last_major_derog  acc_now_delinq  open_acc_6m  \\\n",
       "421101       30.0                          NaN             0.0          0.0   \n",
       "421113       24.0                         74.0             0.0          1.0   \n",
       "\n",
       "        open_act_il  open_il_12m  open_il_24m  mths_since_rcnt_il  \\\n",
       "421101          0.0          1.0          2.0                 7.0   \n",
       "421113          1.0          0.0          0.0                33.0   \n",
       "\n",
       "        total_bal_il  il_util  open_rv_12m  open_rv_24m  max_bal_bc  all_util  \\\n",
       "421101           0.0      NaN          0.0          1.0       141.0       1.0   \n",
       "421113       17431.0     63.0          2.0          2.0      4829.0      47.0   \n",
       "\n",
       "        total_rev_hi_lim  inq_fi  total_cu_tl  inq_last_12m  avg_cur_bal  \\\n",
       "421101           31000.0     1.0          2.0           2.0      25099.0   \n",
       "421113           33800.0     0.0          1.0           1.0       2222.0   \n",
       "\n",
       "        bc_open_to_buy  chargeoff_within_12_mths  delinq_amnt  \\\n",
       "421101         30359.0                       0.0          0.0   \n",
       "421113         10551.0                       0.0          0.0   \n",
       "\n",
       "        mo_sin_old_il_acct  mo_sin_old_rev_tl_op  mo_sin_rcnt_rev_tl_op  \\\n",
       "421101               132.0                 242.0                   18.0   \n",
       "421113                77.0                 199.0                    3.0   \n",
       "\n",
       "        mo_sin_rcnt_tl  mort_acc  mths_since_recent_bc  \\\n",
       "421101             7.0       4.0                  18.0   \n",
       "421113             3.0       0.0                   3.0   \n",
       "\n",
       "        mths_since_recent_bc_dlq  mths_since_recent_inq  \\\n",
       "421101                       NaN                    7.0   \n",
       "421113                       NaN                   12.0   \n",
       "\n",
       "        num_accts_ever_120_pd  num_actv_bc_tl  num_bc_sats  num_bc_tl  \\\n",
       "421101                    0.0             1.0          4.0       15.0   \n",
       "421113                    1.0             3.0          4.0        7.0   \n",
       "\n",
       "        num_il_tl  num_tl_90g_dpd_24m  pct_tl_nvr_dlq  tax_liens  \\\n",
       "421101        7.0                 0.0            96.7        0.0   \n",
       "421113        6.0                 0.0            95.7        0.0   \n",
       "\n",
       "        tot_hi_cred_lim  earliest_cr_line_length  is_manager  is_teacher  \\\n",
       "421101         191216.0                     7364           0           0   \n",
       "421113          61551.0                     6056           0           0   \n",
       "\n",
       "        title_car financing  title_credit card refinancing  \\\n",
       "421101                    0                              0   \n",
       "421113                    0                              0   \n",
       "\n",
       "        title_debt consolidation  title_green loan  title_home buying  \\\n",
       "421101                         0                 0                  0   \n",
       "421113                         0                 0                  0   \n",
       "\n",
       "        title_home improvement  title_major purchase  title_medical expenses  \\\n",
       "421101                       0                     1                       0   \n",
       "421113                       0                     0                       0   \n",
       "\n",
       "        title_moving and relocation  title_other  title_vacation  \\\n",
       "421101                            0            0               0   \n",
       "421113                            0            1               0   \n",
       "\n",
       "        application_type_joint app  disbursement_method_directpay  \\\n",
       "421101                           0                              0   \n",
       "421113                           0                              0   \n",
       "\n",
       "        emp_length_present  mths_since_last_delinq_present  \\\n",
       "421101                   1                               1   \n",
       "421113                   1                               1   \n",
       "\n",
       "        mths_since_last_record_present  revol_util_present  \\\n",
       "421101                               0                   1   \n",
       "421113                               1                   1   \n",
       "\n",
       "        mths_since_last_major_derog_present  mths_since_rcnt_il_present  \\\n",
       "421101                                    0                           1   \n",
       "421113                                    1                           1   \n",
       "\n",
       "        il_util_present  all_util_present  avg_cur_bal_present  \\\n",
       "421101                0                 1                    1   \n",
       "421113                1                 1                    1   \n",
       "\n",
       "        bc_open_to_buy_present  mo_sin_old_il_acct_present  \\\n",
       "421101                       1                           1   \n",
       "421113                       1                           1   \n",
       "\n",
       "        mths_since_recent_bc_present  mths_since_recent_bc_dlq_present  \\\n",
       "421101                             1                                 0   \n",
       "421113                             1                                 0   \n",
       "\n",
       "        mths_since_recent_inq_present  pct_tl_nvr_dlq_present  loan_status  \n",
       "421101                              1                       1            0  \n",
       "421113                              1                       1            0  "
      ]
     },
     "execution_count": 3,
     "metadata": {},
     "output_type": "execute_result"
    }
   ],
   "source": [
    "df.head(2)"
   ]
  },
  {
   "cell_type": "code",
   "execution_count": 4,
   "metadata": {},
   "outputs": [
    {
     "data": {
      "text/plain": [
       "bc_open_to_buy                 0.016977\n",
       "mo_sin_old_il_acct             0.033173\n",
       "mths_since_rcnt_il             0.033173\n",
       "mths_since_recent_inq          0.083483\n",
       "emp_length                     0.087621\n",
       "il_util                        0.166309\n",
       "mths_since_last_delinq         0.552485\n",
       "mths_since_last_major_derog    0.758022\n",
       "mths_since_recent_bc_dlq       0.793912\n",
       "mths_since_last_record         0.852178\n",
       "dtype: float64"
      ]
     },
     "execution_count": 4,
     "metadata": {},
     "output_type": "execute_result"
    }
   ],
   "source": [
    "df.isna().mean().sort_values().tail(10)"
   ]
  },
  {
   "cell_type": "markdown",
   "metadata": {},
   "source": [
    "#### 1. Train Test Split"
   ]
  },
  {
   "cell_type": "code",
   "execution_count": 5,
   "metadata": {},
   "outputs": [],
   "source": [
    "X_train, X_test, y_train, y_test = train_test_split(df.iloc[:,:-1], \n",
    "                                                    df.iloc[:,-1], \n",
    "                                                    test_size=0.25, \n",
    "                                                    random_state=42,\n",
    "                                                   stratify=df.iloc[:,-1])"
   ]
  },
  {
   "cell_type": "code",
   "execution_count": 6,
   "metadata": {},
   "outputs": [
    {
     "data": {
      "text/plain": [
       "(0.15745980631259915, 0.15747975564710898)"
      ]
     },
     "execution_count": 6,
     "metadata": {},
     "output_type": "execute_result"
    }
   ],
   "source": [
    "y_train.mean(), y_test.mean()"
   ]
  },
  {
   "cell_type": "code",
   "execution_count": 7,
   "metadata": {},
   "outputs": [
    {
     "data": {
      "text/plain": [
       "((42233, 85), (14078, 85))"
      ]
     },
     "execution_count": 7,
     "metadata": {},
     "output_type": "execute_result"
    }
   ],
   "source": [
    "X_train.shape, X_test.shape"
   ]
  },
  {
   "cell_type": "markdown",
   "metadata": {},
   "source": [
    "#### 2. Short list\n",
    "From script 1 - festure selection"
   ]
  },
  {
   "cell_type": "code",
   "execution_count": 10,
   "metadata": {},
   "outputs": [],
   "source": [
    "short_cols = ['tot_hi_cred_lim', 'mort_acc', 'avg_cur_bal', 'fico_range_low',\n",
    "       'loan_amnt', 'bc_open_to_buy', 'term', 'home_ownership',\n",
    "       'total_acc', 'num_il_tl', 'total_rev_hi_lim', 'revol_util',\n",
    "       'mo_sin_old_il_acct', 'mths_since_recent_inq', 'emp_length',\n",
    "       'inq_last_6mths', 'dti', 'all_util', 'annual_inc', 'open_il_24m',\n",
    "       'emp_length_present', 'mo_sin_old_il_acct_present',\n",
    "       'mths_since_rcnt_il_present', 'mths_since_last_major_derog',\n",
    "       'max_bal_bc', 'mths_since_rcnt_il', 'revol_bal']"
   ]
  },
  {
   "cell_type": "code",
   "execution_count": 25,
   "metadata": {},
   "outputs": [],
   "source": [
    "X_train = X_train[short_cols]\n",
    "X_test = X_test[short_cols]"
   ]
  },
  {
   "cell_type": "code",
   "execution_count": 11,
   "metadata": {},
   "outputs": [],
   "source": [
    "dtrain = xgb.DMatrix(X_train[short_cols].values, label=y_train.values)\n",
    "dtest = xgb.DMatrix(X_test[short_cols].values, label=y_test.values)"
   ]
  },
  {
   "cell_type": "markdown",
   "metadata": {},
   "source": [
    "#### 3. Modelling"
   ]
  },
  {
   "cell_type": "code",
   "execution_count": 12,
   "metadata": {},
   "outputs": [],
   "source": [
    "params = {\n",
    "    # Parameters that we are going to tune.\n",
    "    'n_estimators': 100,\n",
    "    'eta':.1,\n",
    "    'max_depth':6,\n",
    "    'min_child_weight': 1,\n",
    "    'gamma': 0.1,\n",
    "    'subsample': 1,\n",
    "    'colsample_bytree': 1,\n",
    "    'reg_alpha': 1e-05,\n",
    "    'reg_lambda': 1,\n",
    "    # Parameters that we are not going to tune.\n",
    "    'objective': 'binary:logistic',\n",
    "    'eval_metric': \"auc\",\n",
    "}"
   ]
  },
  {
   "cell_type": "markdown",
   "metadata": {},
   "source": [
    "##### 3.1 A simple model with initilised parameters"
   ]
  },
  {
   "cell_type": "code",
   "execution_count": 13,
   "metadata": {},
   "outputs": [],
   "source": [
    "xgb1 = xgb.XGBClassifier(\n",
    "    n_estimators=100,\n",
    "    learning_rate =0.1, \n",
    "    max_depth=6,\n",
    "    min_child_weight=1,\n",
    "    gamma = 0.1, # Minimum loss reduction required to make a further partition on a leaf node of the tree\n",
    "    subsample=1,\n",
    "    colsample_bytree=1,\n",
    "    reg_alpha=1e-05,\n",
    "    reg_lambda=1,\n",
    "    objective= 'binary:logistic',\n",
    "    nthread=4, # Number of parallel threads used to run XGBoost\n",
    "    seed=27\n",
    ")\n",
    "\n",
    "xgb1.fit(X_train[short_cols], y_train);"
   ]
  },
  {
   "cell_type": "code",
   "execution_count": 14,
   "metadata": {},
   "outputs": [
    {
     "name": "stdout",
     "output_type": "stream",
     "text": [
      "\n",
      "Model Report\n",
      "Accuracy : 0.8635\n",
      "AUC Score (Train): 0.851319\n",
      "\n",
      "Model Report\n",
      "Accuracy : 0.8422\n",
      "AUC Score (Train): 0.719572\n"
     ]
    }
   ],
   "source": [
    "#Print model report on trainiing sample\n",
    "dtrain_predictions = xgb1.predict(X_train[short_cols])\n",
    "dtrain_predprob = xgb1.predict_proba(X_train[short_cols])[:,1]\n",
    "print (\"\\nModel Report\")\n",
    "print (\"Accuracy : %.4g\" % metrics.accuracy_score(y_train.values, dtrain_predictions))\n",
    "print (\"AUC Score (Train): %f\" % metrics.roc_auc_score(y_train, dtrain_predprob))\n",
    "\n",
    "#Print model report on trainiing sample\n",
    "dtest_predictions = xgb1.predict(X_test[short_cols])\n",
    "dtest_predprob = xgb1.predict_proba(X_test[short_cols])[:,1]\n",
    "print (\"\\nModel Report\")\n",
    "print (\"Accuracy : %.4g\" % metrics.accuracy_score(y_test.values, dtest_predictions))\n",
    "print (\"AUC Score (Train): %f\" % metrics.roc_auc_score(y_test, dtest_predprob))"
   ]
  },
  {
   "cell_type": "markdown",
   "metadata": {},
   "source": [
    "**Overfitting?** "
   ]
  },
  {
   "cell_type": "code",
   "execution_count": 15,
   "metadata": {},
   "outputs": [
    {
     "data": {
      "image/png": "[encoded data removed]",
      "text/plain": [
       "<Figure size 864x360 with 1 Axes>"
      ]
     },
     "metadata": {},
     "output_type": "display_data"
    }
   ],
   "source": [
    "# feature importance\n",
    "fig, ax = plt.subplots(figsize=(12,5))\n",
    "xgb.plot_importance(xgb1, max_num_features=15, height=0.8, importance_type='gain', ax=ax)\n",
    "plt.show()"
   ]
  },
  {
   "cell_type": "markdown",
   "metadata": {},
   "source": [
    "##### 3.2 Grid Search + Corss validation (Scikit Learn)\n",
    "\n",
    "**Step 1:** Fix learning rate and number of estimators for tuning tree-based parameters\n",
    "- initilise the learning rate as 0.1 find the best number of estimators"
   ]
  },
  {
   "cell_type": "code",
   "execution_count": 16,
   "metadata": {},
   "outputs": [
    {
     "data": {
      "text/plain": [
       "({'n_estimators': 100}, 0.7232256792131226)"
      ]
     },
     "execution_count": 16,
     "metadata": {},
     "output_type": "execute_result"
    }
   ],
   "source": [
    "param_test1 = {\n",
    "    'n_estimators': [100, 200, 300, 400, 500, 600, 700, 800, 900, 1000]\n",
    "}\n",
    "\n",
    "gsearch1 = GridSearchCV(\n",
    "    estimator = xgb1, \n",
    "    param_grid = param_test1, \n",
    "    scoring='roc_auc',\n",
    "    n_jobs=4,\n",
    "    iid=False, \n",
    "    cv=5)\n",
    "\n",
    "gsearch1.fit(X_train[short_cols], y_train);\n",
    "\n",
    "gsearch1.best_params_, gsearch1.best_score_"
   ]
  },
  {
   "cell_type": "markdown",
   "metadata": {},
   "source": [
    "**Step 2:** Tune max_depth and min_child_weight"
   ]
  },
  {
   "cell_type": "code",
   "execution_count": 17,
   "metadata": {},
   "outputs": [
    {
     "data": {
      "text/plain": [
       "({'max_depth': 5, 'min_child_weight': 5}, 0.7263158231300311)"
      ]
     },
     "execution_count": 17,
     "metadata": {},
     "output_type": "execute_result"
    }
   ],
   "source": [
    "param_test2 = {\n",
    "    'max_depth':range(3,8,2),\n",
    "    'min_child_weight':range(1,6,2)\n",
    "}\n",
    "\n",
    "gsearch2 = GridSearchCV(\n",
    "     estimator = xgb.XGBClassifier( \n",
    "        learning_rate =0.1, \n",
    "        n_estimators=100, \n",
    "        max_depth=5,\n",
    "        min_child_weight=1, \n",
    "        subsample=1, \n",
    "        colsample_bytree=1,\n",
    "        gamma = 0,\n",
    "        objective= 'binary:logistic', \n",
    "        nthread=4,\n",
    "        scale_pos_weight=1, \n",
    "        seed=27), \n",
    "    param_grid = param_test2, \n",
    "    scoring='roc_auc',\n",
    "    n_jobs=4,\n",
    "    iid=False, \n",
    "    cv=5)\n",
    "\n",
    "gsearch2.fit(X_train[short_cols], y_train);\n",
    "gsearch2.best_params_, gsearch2.best_score_"
   ]
  },
  {
   "cell_type": "markdown",
   "metadata": {},
   "source": [
    "**Step 3:** Tune gamma"
   ]
  },
  {
   "cell_type": "code",
   "execution_count": 26,
   "metadata": {},
   "outputs": [
    {
     "data": {
      "text/plain": [
       "({'gamma': 0.4}, 0.7272110258433775)"
      ]
     },
     "execution_count": 26,
     "metadata": {},
     "output_type": "execute_result"
    }
   ],
   "source": [
    "param_test3 = {\n",
    " 'gamma':[i/10.0 for i in range(0,5)]\n",
    "}\n",
    "\n",
    "gsearch3 = GridSearchCV(\n",
    "    estimator = xgb.XGBClassifier( \n",
    "        learning_rate =0.1, \n",
    "        n_estimators=100, \n",
    "        max_depth=5,\n",
    "        min_child_weight=5, \n",
    "        gamma=0, \n",
    "        subsample=0.8, \n",
    "        colsample_bytree=0.8,\n",
    "        objective= 'binary:logistic', \n",
    "        nthread=4, \n",
    "        scale_pos_weight=1,seed=27), \n",
    "    \n",
    "    param_grid = param_test3, \n",
    "    scoring='roc_auc',\n",
    "    n_jobs=4,\n",
    "    cv=5)\n",
    "\n",
    "gsearch3.fit(X_train, y_train);\n",
    "gsearch3.best_params_, gsearch3.best_score_"
   ]
  },
  {
   "cell_type": "markdown",
   "metadata": {},
   "source": [
    "**Step 4:** Tune subsample and colsample_bytree"
   ]
  },
  {
   "cell_type": "code",
   "execution_count": 27,
   "metadata": {},
   "outputs": [
    {
     "data": {
      "text/plain": [
       "({'colsample_bytree': 0.9, 'subsample': 0.8}, 0.7281925006172116)"
      ]
     },
     "execution_count": 27,
     "metadata": {},
     "output_type": "execute_result"
    }
   ],
   "source": [
    "param_test4 = {\n",
    " 'subsample':[i/10.0 for i in range(6,11)],\n",
    " 'colsample_bytree':[i/10.0 for i in range(6,11)]\n",
    "}\n",
    "gsearch4 = GridSearchCV(\n",
    "    estimator = xgb.XGBClassifier( \n",
    "        learning_rate =0.1, \n",
    "        n_estimators=100, \n",
    "        max_depth=5,\n",
    "        min_child_weight=5, \n",
    "        gamma=0.4, \n",
    "        subsample=0.8, \n",
    "        colsample_bytree=0.8,\n",
    "        objective= 'binary:logistic', \n",
    "        nthread=4, \n",
    "        scale_pos_weight=1,\n",
    "        seed=27), \n",
    "    param_grid = param_test4, \n",
    "    scoring='roc_auc',\n",
    "    n_jobs=4,\n",
    "    cv=5)\n",
    "\n",
    "gsearch4.fit(X_train, y_train);\n",
    "gsearch4.best_params_, gsearch4.best_score_"
   ]
  },
  {
   "cell_type": "markdown",
   "metadata": {},
   "source": [
    "**Step 5:** Tuning Regularization Parameters"
   ]
  },
  {
   "cell_type": "code",
   "execution_count": 29,
   "metadata": {},
   "outputs": [
    {
     "data": {
      "text/plain": [
       "({'reg_alpha': 0.1}, 0.7281925006172116)"
      ]
     },
     "execution_count": 29,
     "metadata": {},
     "output_type": "execute_result"
    }
   ],
   "source": [
    "param_test5 = {\n",
    "    'reg_alpha':[1e-5, 1e-2, 0.1, 1, 100]\n",
    "}\n",
    "\n",
    "gsearch5 = GridSearchCV(\n",
    "    estimator = xgb.XGBClassifier( \n",
    "        learning_rate =0.1, \n",
    "        n_estimators=100, \n",
    "        max_depth=5,\n",
    "        min_child_weight=5, \n",
    "        gamma=0.4, \n",
    "        subsample=0.9, \n",
    "        colsample_bytree=0.8,\n",
    "        objective= 'binary:logistic', \n",
    "        nthread=4, \n",
    "        scale_pos_weight=1,\n",
    "        seed=27), \n",
    "    param_grid = param_test5, \n",
    "    scoring='roc_auc',\n",
    "    n_jobs=4,\n",
    "    iid=False, \n",
    "    cv=5)\n",
    "\n",
    "gsearch5.fit(X_train, y_train);\n",
    "gsearch5.best_params_, gsearch4.best_score_"
   ]
  },
  {
   "cell_type": "markdown",
   "metadata": {},
   "source": [
    "**Step 6:** Reducing Learning Rate"
   ]
  },
  {
   "cell_type": "code",
   "execution_count": 30,
   "metadata": {},
   "outputs": [],
   "source": [
    "xgb2 = xgb.XGBClassifier(\n",
    " learning_rate =0.01,\n",
    " n_estimators=1000,\n",
    " max_depth=3,\n",
    " min_child_weight=3,\n",
    " gamma=0.4,\n",
    " subsample=0.8,\n",
    " colsample_bytree=0.8,\n",
    " reg_alpha=0.1,\n",
    " objective= 'binary:logistic',\n",
    " verbosity = 0,\n",
    " nthread=4,\n",
    " scale_pos_weight=1,\n",
    " seed=27)\n",
    "\n",
    "xgb2.fit(X_train, y_train);"
   ]
  },
  {
   "cell_type": "code",
   "execution_count": 32,
   "metadata": {},
   "outputs": [
    {
     "name": "stdout",
     "output_type": "stream",
     "text": [
      "\n",
      "Model Report\n",
      "Accuracy : 0.8467\n",
      "AUC Score (Train): 0.754526\n",
      "\n",
      "Model Report\n",
      "Accuracy : 0.8438\n",
      "AUC Score (Train): 0.726183\n"
     ]
    }
   ],
   "source": [
    "#Print model report on trainiing sample\n",
    "dtrain_predictions = xgb2.predict(X_train)\n",
    "dtrain_predprob = xgb2.predict_proba(X_train)[:,1]\n",
    "print (\"\\nModel Report\")\n",
    "print (\"Accuracy : %.4g\" % metrics.accuracy_score(y_train.values, dtrain_predictions))\n",
    "print (\"AUC Score (Train): %f\" % metrics.roc_auc_score(y_train, dtrain_predprob))\n",
    "\n",
    "#Print model report on trainiing sample\n",
    "dtest_predictions = xgb2.predict(X_test)\n",
    "dtest_predprob = xgb2.predict_proba(X_test)[:,1]\n",
    "print (\"\\nModel Report\")\n",
    "print (\"Accuracy : %.4g\" % metrics.accuracy_score(y_test.values, dtest_predictions))\n",
    "print (\"AUC Score (Train): %f\" % metrics.roc_auc_score(y_test, dtest_predprob))"
   ]
  },
  {
   "cell_type": "code",
   "execution_count": 33,
   "metadata": {},
   "outputs": [
    {
     "data": {
      "image/png": "[encoded data removed]",
      "text/plain": [
       "<Figure size 864x360 with 1 Axes>"
      ]
     },
     "metadata": {},
     "output_type": "display_data"
    }
   ],
   "source": [
    "# feature importance\n",
    "fig, ax = plt.subplots(figsize=(12,5))\n",
    "xgb.plot_importance(xgb2, max_num_features=15, height=0.8, ax=ax, importance_type='gain')\n",
    "plt.show()"
   ]
  },
  {
   "cell_type": "code",
   "execution_count": 34,
   "metadata": {},
   "outputs": [
    {
     "name": "stdout",
     "output_type": "stream",
     "text": [
      "AUC: 72.74% (0.65%)\n"
     ]
    }
   ],
   "source": [
    "# 1) kfold cross validation by scikit learn\n",
    "kfold = KFold(n_splits=5, random_state=3)\n",
    "results = cross_val_score(xgb2, X_train, y_train, cv=kfold, scoring=\"roc_auc\")\n",
    "print(\"AUC: %.2f%% (%.2f%%)\" % (results.mean()*100, results.std()*100))"
   ]
  },
  {
   "cell_type": "code",
   "execution_count": 36,
   "metadata": {},
   "outputs": [
    {
     "data": {
      "text/html": [
       "<div>\n",
       "<style scoped>\n",
       "    .dataframe tbody tr th:only-of-type {\n",
       "        vertical-align: middle;\n",
       "    }\n",
       "\n",
       "    .dataframe tbody tr th {\n",
       "        vertical-align: top;\n",
       "    }\n",
       "\n",
       "    .dataframe thead th {\n",
       "        text-align: right;\n",
       "    }\n",
       "</style>\n",
       "<table border=\"1\" class=\"dataframe\">\n",
       "  <thead>\n",
       "    <tr style=\"text-align: right;\">\n",
       "      <th></th>\n",
       "      <th>train-auc-mean</th>\n",
       "      <th>train-auc-std</th>\n",
       "      <th>test-auc-mean</th>\n",
       "      <th>test-auc-std</th>\n",
       "    </tr>\n",
       "  </thead>\n",
       "  <tbody>\n",
       "    <tr>\n",
       "      <th>995</th>\n",
       "      <td>0.759097</td>\n",
       "      <td>0.001808</td>\n",
       "      <td>0.727707</td>\n",
       "      <td>0.009722</td>\n",
       "    </tr>\n",
       "    <tr>\n",
       "      <th>996</th>\n",
       "      <td>0.759122</td>\n",
       "      <td>0.001804</td>\n",
       "      <td>0.727712</td>\n",
       "      <td>0.009704</td>\n",
       "    </tr>\n",
       "    <tr>\n",
       "      <th>997</th>\n",
       "      <td>0.759140</td>\n",
       "      <td>0.001806</td>\n",
       "      <td>0.727723</td>\n",
       "      <td>0.009708</td>\n",
       "    </tr>\n",
       "    <tr>\n",
       "      <th>998</th>\n",
       "      <td>0.759164</td>\n",
       "      <td>0.001806</td>\n",
       "      <td>0.727728</td>\n",
       "      <td>0.009718</td>\n",
       "    </tr>\n",
       "    <tr>\n",
       "      <th>999</th>\n",
       "      <td>0.759183</td>\n",
       "      <td>0.001810</td>\n",
       "      <td>0.727741</td>\n",
       "      <td>0.009707</td>\n",
       "    </tr>\n",
       "  </tbody>\n",
       "</table>\n",
       "</div>"
      ],
      "text/plain": [
       "     train-auc-mean  train-auc-std  test-auc-mean  test-auc-std\n",
       "995        0.759097       0.001808       0.727707      0.009722\n",
       "996        0.759122       0.001804       0.727712      0.009704\n",
       "997        0.759140       0.001806       0.727723      0.009708\n",
       "998        0.759164       0.001806       0.727728      0.009718\n",
       "999        0.759183       0.001810       0.727741      0.009707"
      ]
     },
     "execution_count": 36,
     "metadata": {},
     "output_type": "execute_result"
    }
   ],
   "source": [
    "# 2) kfold cross validation by xgboost\n",
    "cv_results = xgb.cv(\n",
    "    params = xgb2.get_xgb_params(),\n",
    "    dtrain = dtrain,\n",
    "    num_boost_round=1000,\n",
    "    seed=42,\n",
    "    nfold=5,\n",
    "    metrics={'auc'},\n",
    "    early_stopping_rounds=10\n",
    ")\n",
    "cv_results.tail(5)"
   ]
  }
 ],
 "metadata": {
  "kernelspec": {
   "display_name": "Python 3",
   "language": "python",
   "name": "python3"
  },
  "language_info": {
   "codemirror_mode": {
    "name": "ipython",
    "version": 3
   },
   "file_extension": ".py",
   "mimetype": "text/x-python",
   "name": "python",
   "nbconvert_exporter": "python",
   "pygments_lexer": "ipython3",
   "version": "3.7.7"
  }
 },
 "nbformat": 4,
 "nbformat_minor": 4
}

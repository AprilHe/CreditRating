{
 "cells": [
  {
   "cell_type": "code",
   "execution_count": 2,
   "metadata": {},
   "outputs": [
    {
     "name": "stderr",
     "output_type": "stream",
     "text": [
      "/Users/april/anaconda3/lib/python3.7/site-packages/lightgbm/__init__.py:48: UserWarning: Starting from version 2.2.1, the library file in distribution wheels for macOS is built by the Apple Clang (Xcode_8.3.3) compiler.\n",
      "This means that in case of installing LightGBM from PyPI via the ``pip install lightgbm`` command, you don't need to install the gcc compiler anymore.\n",
      "Instead of that, you need to install the OpenMP library, which is required for running LightGBM on the system with the Apple Clang compiler.\n",
      "You can install the OpenMP library by the following command: ``brew install libomp``.\n",
      "  \"You can install the OpenMP library by the following command: ``brew install libomp``.\", UserWarning)\n"
     ]
    }
   ],
   "source": [
    "import numpy as np \n",
    "import pandas as pd\n",
    "import matplotlib as mp\n",
    "import matplotlib.pyplot as plt\n",
    "import matplotlib.gridspec as gridspec\n",
    "import seaborn as sns\n",
    "plt.style.use('fivethirtyeight')\n",
    "\n",
    "# Pandas options\n",
    "pd.set_option('display.max_colwidth', 1000, 'display.max_rows', 1000, 'display.max_columns', None)\n",
    "\n",
    "# Plotting options\n",
    "%matplotlib inline\n",
    "mp.style.use('ggplot')\n",
    "sns.set(style='whitegrid')\n",
    "\n",
    "from sklearn.metrics import make_scorer\n",
    "from sklearn.metrics import accuracy_score\n",
    "from sklearn.decomposition import PCA \n",
    "from sklearn.feature_selection import f_classif\n",
    "from sklearn.pipeline import make_pipeline\n",
    "from sklearn.model_selection import train_test_split, KFold, cross_val_score, GridSearchCV\n",
    "from sklearn.linear_model import ElasticNet, Ridge, Lasso,  BayesianRidge, LassoLarsIC\n",
    "from sklearn.kernel_ridge import KernelRidge\n",
    "from sklearn.model_selection import GridSearchCV\n",
    "from sklearn.model_selection import RandomizedSearchCV\n",
    "from sklearn.ensemble import RandomForestRegressor,  GradientBoostingRegressor\n",
    "import xgboost as xgb\n",
    "import lightgbm as lgb\n",
    "\n",
    "from sklearn import metrics\n",
    "import warnings\n",
    "warnings.filterwarnings('ignore')"
   ]
  },
  {
   "cell_type": "code",
   "execution_count": 3,
   "metadata": {},
   "outputs": [],
   "source": [
    "df = pd.read_json('input/CleanedData.json', orient='table')\n",
    "df = df[[c for c in df if c not in ['loan_status']] + ['loan_status']]"
   ]
  },
  {
   "cell_type": "code",
   "execution_count": 4,
   "metadata": {},
   "outputs": [
    {
     "data": {
      "text/html": [
       "<div>\n",
       "<style scoped>\n",
       "    .dataframe tbody tr th:only-of-type {\n",
       "        vertical-align: middle;\n",
       "    }\n",
       "\n",
       "    .dataframe tbody tr th {\n",
       "        vertical-align: top;\n",
       "    }\n",
       "\n",
       "    .dataframe thead th {\n",
       "        text-align: right;\n",
       "    }\n",
       "</style>\n",
       "<table border=\"1\" class=\"dataframe\">\n",
       "  <thead>\n",
       "    <tr style=\"text-align: right;\">\n",
       "      <th></th>\n",
       "      <th>loan_amnt</th>\n",
       "      <th>term</th>\n",
       "      <th>emp_length</th>\n",
       "      <th>home_ownership</th>\n",
       "      <th>annual_inc</th>\n",
       "      <th>dti</th>\n",
       "      <th>delinq_2yrs</th>\n",
       "      <th>fico_range_low</th>\n",
       "      <th>inq_last_6mths</th>\n",
       "      <th>mths_since_last_delinq</th>\n",
       "      <th>mths_since_last_record</th>\n",
       "      <th>open_acc</th>\n",
       "      <th>pub_rec</th>\n",
       "      <th>revol_bal</th>\n",
       "      <th>revol_util</th>\n",
       "      <th>total_acc</th>\n",
       "      <th>mths_since_last_major_derog</th>\n",
       "      <th>acc_now_delinq</th>\n",
       "      <th>open_acc_6m</th>\n",
       "      <th>open_act_il</th>\n",
       "      <th>open_il_12m</th>\n",
       "      <th>open_il_24m</th>\n",
       "      <th>mths_since_rcnt_il</th>\n",
       "      <th>total_bal_il</th>\n",
       "      <th>il_util</th>\n",
       "      <th>open_rv_12m</th>\n",
       "      <th>open_rv_24m</th>\n",
       "      <th>max_bal_bc</th>\n",
       "      <th>all_util</th>\n",
       "      <th>total_rev_hi_lim</th>\n",
       "      <th>inq_fi</th>\n",
       "      <th>total_cu_tl</th>\n",
       "      <th>inq_last_12m</th>\n",
       "      <th>avg_cur_bal</th>\n",
       "      <th>bc_open_to_buy</th>\n",
       "      <th>chargeoff_within_12_mths</th>\n",
       "      <th>delinq_amnt</th>\n",
       "      <th>mo_sin_old_il_acct</th>\n",
       "      <th>mo_sin_old_rev_tl_op</th>\n",
       "      <th>mo_sin_rcnt_rev_tl_op</th>\n",
       "      <th>mo_sin_rcnt_tl</th>\n",
       "      <th>mort_acc</th>\n",
       "      <th>mths_since_recent_bc</th>\n",
       "      <th>mths_since_recent_bc_dlq</th>\n",
       "      <th>mths_since_recent_inq</th>\n",
       "      <th>num_accts_ever_120_pd</th>\n",
       "      <th>num_actv_bc_tl</th>\n",
       "      <th>num_bc_sats</th>\n",
       "      <th>num_bc_tl</th>\n",
       "      <th>num_il_tl</th>\n",
       "      <th>num_tl_90g_dpd_24m</th>\n",
       "      <th>pct_tl_nvr_dlq</th>\n",
       "      <th>tax_liens</th>\n",
       "      <th>tot_hi_cred_lim</th>\n",
       "      <th>earliest_cr_line_length</th>\n",
       "      <th>is_manager</th>\n",
       "      <th>is_teacher</th>\n",
       "      <th>title_car financing</th>\n",
       "      <th>title_credit card refinancing</th>\n",
       "      <th>title_debt consolidation</th>\n",
       "      <th>title_green loan</th>\n",
       "      <th>title_home buying</th>\n",
       "      <th>title_home improvement</th>\n",
       "      <th>title_major purchase</th>\n",
       "      <th>title_medical expenses</th>\n",
       "      <th>title_moving and relocation</th>\n",
       "      <th>title_other</th>\n",
       "      <th>title_vacation</th>\n",
       "      <th>application_type_joint app</th>\n",
       "      <th>disbursement_method_directpay</th>\n",
       "      <th>emp_length_present</th>\n",
       "      <th>mths_since_last_delinq_present</th>\n",
       "      <th>mths_since_last_record_present</th>\n",
       "      <th>revol_util_present</th>\n",
       "      <th>mths_since_last_major_derog_present</th>\n",
       "      <th>mths_since_rcnt_il_present</th>\n",
       "      <th>il_util_present</th>\n",
       "      <th>all_util_present</th>\n",
       "      <th>avg_cur_bal_present</th>\n",
       "      <th>bc_open_to_buy_present</th>\n",
       "      <th>mo_sin_old_il_acct_present</th>\n",
       "      <th>mths_since_recent_bc_present</th>\n",
       "      <th>mths_since_recent_bc_dlq_present</th>\n",
       "      <th>mths_since_recent_inq_present</th>\n",
       "      <th>pct_tl_nvr_dlq_present</th>\n",
       "      <th>loan_status</th>\n",
       "    </tr>\n",
       "  </thead>\n",
       "  <tbody>\n",
       "    <tr>\n",
       "      <th>421101</th>\n",
       "      <td>3000.0</td>\n",
       "      <td>36.0</td>\n",
       "      <td>9.0</td>\n",
       "      <td>5</td>\n",
       "      <td>52000.0</td>\n",
       "      <td>0.58</td>\n",
       "      <td>0.0</td>\n",
       "      <td>760.0</td>\n",
       "      <td>0.0</td>\n",
       "      <td>26.0</td>\n",
       "      <td>NaN</td>\n",
       "      <td>7.0</td>\n",
       "      <td>0.0</td>\n",
       "      <td>141.0</td>\n",
       "      <td>0.5</td>\n",
       "      <td>30.0</td>\n",
       "      <td>NaN</td>\n",
       "      <td>0.0</td>\n",
       "      <td>0.0</td>\n",
       "      <td>0.0</td>\n",
       "      <td>1.0</td>\n",
       "      <td>2.0</td>\n",
       "      <td>7.0</td>\n",
       "      <td>0.0</td>\n",
       "      <td>NaN</td>\n",
       "      <td>0.0</td>\n",
       "      <td>1.0</td>\n",
       "      <td>141.0</td>\n",
       "      <td>1.0</td>\n",
       "      <td>31000.0</td>\n",
       "      <td>1.0</td>\n",
       "      <td>2.0</td>\n",
       "      <td>2.0</td>\n",
       "      <td>25099.0</td>\n",
       "      <td>30359.0</td>\n",
       "      <td>0.0</td>\n",
       "      <td>0.0</td>\n",
       "      <td>132.0</td>\n",
       "      <td>242.0</td>\n",
       "      <td>18.0</td>\n",
       "      <td>7.0</td>\n",
       "      <td>4.0</td>\n",
       "      <td>18.0</td>\n",
       "      <td>NaN</td>\n",
       "      <td>7.0</td>\n",
       "      <td>0.0</td>\n",
       "      <td>1.0</td>\n",
       "      <td>4.0</td>\n",
       "      <td>15.0</td>\n",
       "      <td>7.0</td>\n",
       "      <td>0.0</td>\n",
       "      <td>96.7</td>\n",
       "      <td>0.0</td>\n",
       "      <td>191216.0</td>\n",
       "      <td>7364</td>\n",
       "      <td>0</td>\n",
       "      <td>0</td>\n",
       "      <td>0</td>\n",
       "      <td>0</td>\n",
       "      <td>0</td>\n",
       "      <td>0</td>\n",
       "      <td>0</td>\n",
       "      <td>0</td>\n",
       "      <td>1</td>\n",
       "      <td>0</td>\n",
       "      <td>0</td>\n",
       "      <td>0</td>\n",
       "      <td>0</td>\n",
       "      <td>0</td>\n",
       "      <td>0</td>\n",
       "      <td>1</td>\n",
       "      <td>1</td>\n",
       "      <td>0</td>\n",
       "      <td>1</td>\n",
       "      <td>0</td>\n",
       "      <td>1</td>\n",
       "      <td>0</td>\n",
       "      <td>1</td>\n",
       "      <td>1</td>\n",
       "      <td>1</td>\n",
       "      <td>1</td>\n",
       "      <td>1</td>\n",
       "      <td>0</td>\n",
       "      <td>1</td>\n",
       "      <td>1</td>\n",
       "      <td>0</td>\n",
       "    </tr>\n",
       "    <tr>\n",
       "      <th>421113</th>\n",
       "      <td>5000.0</td>\n",
       "      <td>36.0</td>\n",
       "      <td>10.0</td>\n",
       "      <td>4</td>\n",
       "      <td>55000.0</td>\n",
       "      <td>14.18</td>\n",
       "      <td>0.0</td>\n",
       "      <td>675.0</td>\n",
       "      <td>0.0</td>\n",
       "      <td>74.0</td>\n",
       "      <td>82.0</td>\n",
       "      <td>14.0</td>\n",
       "      <td>1.0</td>\n",
       "      <td>11449.0</td>\n",
       "      <td>33.9</td>\n",
       "      <td>24.0</td>\n",
       "      <td>74.0</td>\n",
       "      <td>0.0</td>\n",
       "      <td>1.0</td>\n",
       "      <td>1.0</td>\n",
       "      <td>0.0</td>\n",
       "      <td>0.0</td>\n",
       "      <td>33.0</td>\n",
       "      <td>17431.0</td>\n",
       "      <td>63.0</td>\n",
       "      <td>2.0</td>\n",
       "      <td>2.0</td>\n",
       "      <td>4829.0</td>\n",
       "      <td>47.0</td>\n",
       "      <td>33800.0</td>\n",
       "      <td>0.0</td>\n",
       "      <td>1.0</td>\n",
       "      <td>1.0</td>\n",
       "      <td>2222.0</td>\n",
       "      <td>10551.0</td>\n",
       "      <td>0.0</td>\n",
       "      <td>0.0</td>\n",
       "      <td>77.0</td>\n",
       "      <td>199.0</td>\n",
       "      <td>3.0</td>\n",
       "      <td>3.0</td>\n",
       "      <td>0.0</td>\n",
       "      <td>3.0</td>\n",
       "      <td>NaN</td>\n",
       "      <td>12.0</td>\n",
       "      <td>1.0</td>\n",
       "      <td>3.0</td>\n",
       "      <td>4.0</td>\n",
       "      <td>7.0</td>\n",
       "      <td>6.0</td>\n",
       "      <td>0.0</td>\n",
       "      <td>95.7</td>\n",
       "      <td>0.0</td>\n",
       "      <td>61551.0</td>\n",
       "      <td>6056</td>\n",
       "      <td>0</td>\n",
       "      <td>0</td>\n",
       "      <td>0</td>\n",
       "      <td>0</td>\n",
       "      <td>0</td>\n",
       "      <td>0</td>\n",
       "      <td>0</td>\n",
       "      <td>0</td>\n",
       "      <td>0</td>\n",
       "      <td>0</td>\n",
       "      <td>0</td>\n",
       "      <td>1</td>\n",
       "      <td>0</td>\n",
       "      <td>0</td>\n",
       "      <td>0</td>\n",
       "      <td>1</td>\n",
       "      <td>1</td>\n",
       "      <td>1</td>\n",
       "      <td>1</td>\n",
       "      <td>1</td>\n",
       "      <td>1</td>\n",
       "      <td>1</td>\n",
       "      <td>1</td>\n",
       "      <td>1</td>\n",
       "      <td>1</td>\n",
       "      <td>1</td>\n",
       "      <td>1</td>\n",
       "      <td>0</td>\n",
       "      <td>1</td>\n",
       "      <td>1</td>\n",
       "      <td>0</td>\n",
       "    </tr>\n",
       "  </tbody>\n",
       "</table>\n",
       "</div>"
      ],
      "text/plain": [
       "        loan_amnt  term  emp_length  home_ownership  annual_inc    dti  \\\n",
       "421101     3000.0  36.0         9.0               5     52000.0   0.58   \n",
       "421113     5000.0  36.0        10.0               4     55000.0  14.18   \n",
       "\n",
       "        delinq_2yrs  fico_range_low  inq_last_6mths  mths_since_last_delinq  \\\n",
       "421101          0.0           760.0             0.0                    26.0   \n",
       "421113          0.0           675.0             0.0                    74.0   \n",
       "\n",
       "        mths_since_last_record  open_acc  pub_rec  revol_bal  revol_util  \\\n",
       "421101                     NaN       7.0      0.0      141.0         0.5   \n",
       "421113                    82.0      14.0      1.0    11449.0        33.9   \n",
       "\n",
       "        total_acc  mths_since_last_major_derog  acc_now_delinq  open_acc_6m  \\\n",
       "421101       30.0                          NaN             0.0          0.0   \n",
       "421113       24.0                         74.0             0.0          1.0   \n",
       "\n",
       "        open_act_il  open_il_12m  open_il_24m  mths_since_rcnt_il  \\\n",
       "421101          0.0          1.0          2.0                 7.0   \n",
       "421113          1.0          0.0          0.0                33.0   \n",
       "\n",
       "        total_bal_il  il_util  open_rv_12m  open_rv_24m  max_bal_bc  all_util  \\\n",
       "421101           0.0      NaN          0.0          1.0       141.0       1.0   \n",
       "421113       17431.0     63.0          2.0          2.0      4829.0      47.0   \n",
       "\n",
       "        total_rev_hi_lim  inq_fi  total_cu_tl  inq_last_12m  avg_cur_bal  \\\n",
       "421101           31000.0     1.0          2.0           2.0      25099.0   \n",
       "421113           33800.0     0.0          1.0           1.0       2222.0   \n",
       "\n",
       "        bc_open_to_buy  chargeoff_within_12_mths  delinq_amnt  \\\n",
       "421101         30359.0                       0.0          0.0   \n",
       "421113         10551.0                       0.0          0.0   \n",
       "\n",
       "        mo_sin_old_il_acct  mo_sin_old_rev_tl_op  mo_sin_rcnt_rev_tl_op  \\\n",
       "421101               132.0                 242.0                   18.0   \n",
       "421113                77.0                 199.0                    3.0   \n",
       "\n",
       "        mo_sin_rcnt_tl  mort_acc  mths_since_recent_bc  \\\n",
       "421101             7.0       4.0                  18.0   \n",
       "421113             3.0       0.0                   3.0   \n",
       "\n",
       "        mths_since_recent_bc_dlq  mths_since_recent_inq  \\\n",
       "421101                       NaN                    7.0   \n",
       "421113                       NaN                   12.0   \n",
       "\n",
       "        num_accts_ever_120_pd  num_actv_bc_tl  num_bc_sats  num_bc_tl  \\\n",
       "421101                    0.0             1.0          4.0       15.0   \n",
       "421113                    1.0             3.0          4.0        7.0   \n",
       "\n",
       "        num_il_tl  num_tl_90g_dpd_24m  pct_tl_nvr_dlq  tax_liens  \\\n",
       "421101        7.0                 0.0            96.7        0.0   \n",
       "421113        6.0                 0.0            95.7        0.0   \n",
       "\n",
       "        tot_hi_cred_lim  earliest_cr_line_length  is_manager  is_teacher  \\\n",
       "421101         191216.0                     7364           0           0   \n",
       "421113          61551.0                     6056           0           0   \n",
       "\n",
       "        title_car financing  title_credit card refinancing  \\\n",
       "421101                    0                              0   \n",
       "421113                    0                              0   \n",
       "\n",
       "        title_debt consolidation  title_green loan  title_home buying  \\\n",
       "421101                         0                 0                  0   \n",
       "421113                         0                 0                  0   \n",
       "\n",
       "        title_home improvement  title_major purchase  title_medical expenses  \\\n",
       "421101                       0                     1                       0   \n",
       "421113                       0                     0                       0   \n",
       "\n",
       "        title_moving and relocation  title_other  title_vacation  \\\n",
       "421101                            0            0               0   \n",
       "421113                            0            1               0   \n",
       "\n",
       "        application_type_joint app  disbursement_method_directpay  \\\n",
       "421101                           0                              0   \n",
       "421113                           0                              0   \n",
       "\n",
       "        emp_length_present  mths_since_last_delinq_present  \\\n",
       "421101                   1                               1   \n",
       "421113                   1                               1   \n",
       "\n",
       "        mths_since_last_record_present  revol_util_present  \\\n",
       "421101                               0                   1   \n",
       "421113                               1                   1   \n",
       "\n",
       "        mths_since_last_major_derog_present  mths_since_rcnt_il_present  \\\n",
       "421101                                    0                           1   \n",
       "421113                                    1                           1   \n",
       "\n",
       "        il_util_present  all_util_present  avg_cur_bal_present  \\\n",
       "421101                0                 1                    1   \n",
       "421113                1                 1                    1   \n",
       "\n",
       "        bc_open_to_buy_present  mo_sin_old_il_acct_present  \\\n",
       "421101                       1                           1   \n",
       "421113                       1                           1   \n",
       "\n",
       "        mths_since_recent_bc_present  mths_since_recent_bc_dlq_present  \\\n",
       "421101                             1                                 0   \n",
       "421113                             1                                 0   \n",
       "\n",
       "        mths_since_recent_inq_present  pct_tl_nvr_dlq_present  loan_status  \n",
       "421101                              1                       1            0  \n",
       "421113                              1                       1            0  "
      ]
     },
     "execution_count": 4,
     "metadata": {},
     "output_type": "execute_result"
    }
   ],
   "source": [
    "df.head(2)"
   ]
  },
  {
   "cell_type": "code",
   "execution_count": 5,
   "metadata": {},
   "outputs": [
    {
     "data": {
      "text/plain": [
       "bc_open_to_buy                 0.016977\n",
       "mo_sin_old_il_acct             0.033173\n",
       "mths_since_rcnt_il             0.033173\n",
       "mths_since_recent_inq          0.083483\n",
       "emp_length                     0.087621\n",
       "il_util                        0.166309\n",
       "mths_since_last_delinq         0.552485\n",
       "mths_since_last_major_derog    0.758022\n",
       "mths_since_recent_bc_dlq       0.793912\n",
       "mths_since_last_record         0.852178\n",
       "dtype: float64"
      ]
     },
     "execution_count": 5,
     "metadata": {},
     "output_type": "execute_result"
    }
   ],
   "source": [
    "df.isna().mean().sort_values().tail(10)"
   ]
  },
  {
   "cell_type": "markdown",
   "metadata": {},
   "source": [
    "#### 1. Train Test Split"
   ]
  },
  {
   "cell_type": "code",
   "execution_count": 6,
   "metadata": {},
   "outputs": [],
   "source": [
    "X_train, X_test, y_train, y_test = train_test_split(df.iloc[:,:-1], \n",
    "                                                    df.iloc[:,-1], \n",
    "                                                    test_size=0.25, \n",
    "                                                    random_state=42,\n",
    "                                                    stratify=df.iloc[:,-1])"
   ]
  },
  {
   "cell_type": "code",
   "execution_count": 7,
   "metadata": {},
   "outputs": [
    {
     "data": {
      "text/plain": [
       "(0.15745980631259915, 0.15747975564710898)"
      ]
     },
     "execution_count": 7,
     "metadata": {},
     "output_type": "execute_result"
    }
   ],
   "source": [
    "y_train.mean(), y_test.mean()"
   ]
  },
  {
   "cell_type": "code",
   "execution_count": 8,
   "metadata": {},
   "outputs": [
    {
     "data": {
      "text/plain": [
       "((42233, 85), (14078, 85))"
      ]
     },
     "execution_count": 8,
     "metadata": {},
     "output_type": "execute_result"
    }
   ],
   "source": [
    "X_train.shape, X_test.shape"
   ]
  },
  {
   "cell_type": "markdown",
   "metadata": {},
   "source": [
    "#### 2. Feature Selection "
   ]
  },
  {
   "cell_type": "markdown",
   "metadata": {},
   "source": [
    "##### 2.1 Using variance threshold from sklearn\n",
    "\n",
    "Variance threshold from sklearn is a simple baseline approach to feature selection. It removes all features which variance doesn’t meet some threshold. By default, it removes all zero-variance features, i.e., features that have the same value in all samples."
   ]
  },
  {
   "cell_type": "code",
   "execution_count": 9,
   "metadata": {},
   "outputs": [
    {
     "data": {
      "text/plain": [
       "VarianceThreshold(threshold=0)"
      ]
     },
     "execution_count": 9,
     "metadata": {},
     "output_type": "execute_result"
    }
   ],
   "source": [
    "from sklearn.feature_selection import VarianceThreshold\n",
    "sel = VarianceThreshold(threshold=0)\n",
    "sel.fit(X_train)  # fit finds the features with zero variance"
   ]
  },
  {
   "cell_type": "code",
   "execution_count": 10,
   "metadata": {},
   "outputs": [
    {
     "data": {
      "text/plain": [
       "84"
      ]
     },
     "execution_count": 10,
     "metadata": {},
     "output_type": "execute_result"
    }
   ],
   "source": [
    "sum(sel.get_support())"
   ]
  },
  {
   "cell_type": "code",
   "execution_count": 11,
   "metadata": {},
   "outputs": [
    {
     "data": {
      "text/plain": [
       "['pct_tl_nvr_dlq_present']"
      ]
     },
     "execution_count": 11,
     "metadata": {},
     "output_type": "execute_result"
    }
   ],
   "source": [
    "# print the constant features\n",
    "[x for x in X_train.columns if x not in X_train.columns[sel.get_support()]]"
   ]
  },
  {
   "cell_type": "code",
   "execution_count": 12,
   "metadata": {},
   "outputs": [],
   "source": [
    "# we can then drop these columns from the train and test sets\n",
    "# X_train = sel.transform(X_train)\n",
    "# X_test = sel.transform(X_test)\n",
    "X_train = X_train[X_train.columns[sel.get_support()]]\n",
    "X_test = X_test[X_test.columns[sel.get_support()]]"
   ]
  },
  {
   "cell_type": "code",
   "execution_count": 13,
   "metadata": {},
   "outputs": [
    {
     "data": {
      "text/plain": [
       "((42233, 84), (14078, 84))"
      ]
     },
     "execution_count": 13,
     "metadata": {},
     "output_type": "execute_result"
    }
   ],
   "source": [
    "X_train.shape, X_test.shape"
   ]
  },
  {
   "cell_type": "markdown",
   "metadata": {},
   "source": [
    "#### 5.2 Correlation matrix"
   ]
  },
  {
   "cell_type": "code",
   "execution_count": 14,
   "metadata": {},
   "outputs": [],
   "source": [
    "linear_dep = pd.DataFrame()\n",
    "for col in X_train.columns:\n",
    "    linear_dep.loc[col, 'pearson_corr'] = X_train[col].corr(y_train)\n",
    "\n",
    "linear_dep['abs_pearson_corr'] = abs(linear_dep['pearson_corr'])\n",
    "\n",
    "\n",
    "for col in X_train.columns:\n",
    "    mask = X_train[col].notnull()\n",
    "    (linear_dep.loc[col, 'F'], linear_dep.loc[col, 'p_value']) = f_classif(pd.DataFrame(X_train.loc[mask, col]), y_train.loc[mask])\n",
    "    \n",
    "linear_dep.sort_values('abs_pearson_corr', ascending=False, inplace=True)\n",
    "linear_dep.drop('abs_pearson_corr', axis=1, inplace=True)\n",
    "\n",
    "linear_dep.reset_index(inplace=True)\n",
    "linear_dep.rename(columns={'index':'variable'}, inplace=True);"
   ]
  },
  {
   "cell_type": "code",
   "execution_count": 15,
   "metadata": {},
   "outputs": [
    {
     "data": {
      "text/html": [
       "<div>\n",
       "<style scoped>\n",
       "    .dataframe tbody tr th:only-of-type {\n",
       "        vertical-align: middle;\n",
       "    }\n",
       "\n",
       "    .dataframe tbody tr th {\n",
       "        vertical-align: top;\n",
       "    }\n",
       "\n",
       "    .dataframe thead th {\n",
       "        text-align: right;\n",
       "    }\n",
       "</style>\n",
       "<table border=\"1\" class=\"dataframe\">\n",
       "  <thead>\n",
       "    <tr style=\"text-align: right;\">\n",
       "      <th></th>\n",
       "      <th>variable</th>\n",
       "      <th>pearson_corr</th>\n",
       "      <th>F</th>\n",
       "      <th>p_value</th>\n",
       "    </tr>\n",
       "  </thead>\n",
       "  <tbody>\n",
       "    <tr>\n",
       "      <th>0</th>\n",
       "      <td>term</td>\n",
       "      <td>0.118344</td>\n",
       "      <td>599.860757</td>\n",
       "      <td>1.491381e-131</td>\n",
       "    </tr>\n",
       "    <tr>\n",
       "      <th>1</th>\n",
       "      <td>tot_hi_cred_lim</td>\n",
       "      <td>-0.101638</td>\n",
       "      <td>440.812279</td>\n",
       "      <td>2.270078e-97</td>\n",
       "    </tr>\n",
       "    <tr>\n",
       "      <th>2</th>\n",
       "      <td>fico_range_low</td>\n",
       "      <td>-0.100289</td>\n",
       "      <td>429.066771</td>\n",
       "      <td>7.697036e-95</td>\n",
       "    </tr>\n",
       "    <tr>\n",
       "      <th>3</th>\n",
       "      <td>mort_acc</td>\n",
       "      <td>-0.096120</td>\n",
       "      <td>393.813955</td>\n",
       "      <td>3.060996e-87</td>\n",
       "    </tr>\n",
       "    <tr>\n",
       "      <th>4</th>\n",
       "      <td>loan_amnt</td>\n",
       "      <td>0.092839</td>\n",
       "      <td>367.156596</td>\n",
       "      <td>1.728832e-81</td>\n",
       "    </tr>\n",
       "    <tr>\n",
       "      <th>5</th>\n",
       "      <td>home_ownership</td>\n",
       "      <td>-0.083434</td>\n",
       "      <td>296.042785</td>\n",
       "      <td>4.033872e-66</td>\n",
       "    </tr>\n",
       "    <tr>\n",
       "      <th>6</th>\n",
       "      <td>avg_cur_bal</td>\n",
       "      <td>-0.082999</td>\n",
       "      <td>292.917140</td>\n",
       "      <td>1.914416e-65</td>\n",
       "    </tr>\n",
       "    <tr>\n",
       "      <th>7</th>\n",
       "      <td>total_acc</td>\n",
       "      <td>-0.077699</td>\n",
       "      <td>256.504694</td>\n",
       "      <td>1.466270e-57</td>\n",
       "    </tr>\n",
       "    <tr>\n",
       "      <th>8</th>\n",
       "      <td>bc_open_to_buy</td>\n",
       "      <td>-0.076925</td>\n",
       "      <td>247.198462</td>\n",
       "      <td>1.533328e-55</td>\n",
       "    </tr>\n",
       "    <tr>\n",
       "      <th>9</th>\n",
       "      <td>emp_length_present</td>\n",
       "      <td>-0.069232</td>\n",
       "      <td>203.393743</td>\n",
       "      <td>4.856569e-46</td>\n",
       "    </tr>\n",
       "  </tbody>\n",
       "</table>\n",
       "</div>"
      ],
      "text/plain": [
       "             variable  pearson_corr           F        p_value\n",
       "0                term      0.118344  599.860757  1.491381e-131\n",
       "1     tot_hi_cred_lim     -0.101638  440.812279   2.270078e-97\n",
       "2      fico_range_low     -0.100289  429.066771   7.697036e-95\n",
       "3            mort_acc     -0.096120  393.813955   3.060996e-87\n",
       "4           loan_amnt      0.092839  367.156596   1.728832e-81\n",
       "5      home_ownership     -0.083434  296.042785   4.033872e-66\n",
       "6         avg_cur_bal     -0.082999  292.917140   1.914416e-65\n",
       "7           total_acc     -0.077699  256.504694   1.466270e-57\n",
       "8      bc_open_to_buy     -0.076925  247.198462   1.533328e-55\n",
       "9  emp_length_present     -0.069232  203.393743   4.856569e-46"
      ]
     },
     "execution_count": 15,
     "metadata": {},
     "output_type": "execute_result"
    }
   ],
   "source": [
    "linear_dep.head(10)"
   ]
  },
  {
   "cell_type": "code",
   "execution_count": 16,
   "metadata": {},
   "outputs": [],
   "source": [
    "X_train_new = X_train[linear_dep.variable[:30]]\n",
    "X_test_new = X_test[linear_dep.variable[:30]]\n",
    "data_cleaned = df[list(linear_dep.variable[:30]) + ['loan_status']]"
   ]
  },
  {
   "cell_type": "code",
   "execution_count": 17,
   "metadata": {},
   "outputs": [
    {
     "data": {
      "text/plain": [
       "<matplotlib.axes._subplots.AxesSubplot at 0x1a3b1a45d0>"
      ]
     },
     "execution_count": 17,
     "metadata": {},
     "output_type": "execute_result"
    },
    {
     "data": {
      "image/png": "[encoded data removed]",
      "text/plain": [
       "<Figure size 720x720 with 2 Axes>"
      ]
     },
     "metadata": {},
     "output_type": "display_data"
    }
   ],
   "source": [
    "dataViz = data_cleaned\n",
    "sns.set_context(context='notebook')\n",
    "fig, ax = plt.subplots(figsize=(10,10)) \n",
    "corr = dataViz.corr()\n",
    "\n",
    "# Generate a mask for the upper triangle\n",
    "mask = np.zeros_like(corr, dtype=np.bool)\n",
    "mask[np.tril_indices_from(mask)] = True\n",
    "\n",
    "# Generate a custom diverging colormap\n",
    "cmap = sns.diverging_palette(220, 10, as_cmap=True)\n",
    "\n",
    "sns.heatmap(corr, cmap=cmap,linewidths=1, vmin=-1, vmax=1, \n",
    "            square=True, cbar=True, center=0, ax=ax, mask=mask)"
   ]
  },
  {
   "cell_type": "markdown",
   "metadata": {},
   "source": [
    "#### 5.3 Univariate selection methods - AUC"
   ]
  },
  {
   "cell_type": "code",
   "execution_count": 17,
   "metadata": {},
   "outputs": [],
   "source": [
    "tmp = X_train.join(y_train)\n",
    "na_cols = tmp.columns[tmp.isnull().any()]\n",
    "label = 'loan_status'"
   ]
  },
  {
   "cell_type": "code",
   "execution_count": 18,
   "metadata": {},
   "outputs": [],
   "source": [
    "# impute missing \n",
    "def missing_by_br(df, cols, label):\n",
    "    tmp = df\n",
    "    for col in cols:\n",
    "        tmp['group'] = pd.qcut(tmp[col], 10, duplicates='drop')\n",
    "        tmp['group'] = np.where(tmp.group.isna(), 'missing', tmp.group).astype(str)\n",
    "        aa = tmp.groupby('group').agg({col: np.median,label: np.mean}).reset_index().rename(columns={'loan_status':'default_rate'}).sort_values(col).reset_index(drop = True)\n",
    "        br = aa[aa['group'] == 'missing'].default_rate\n",
    "        bb = aa.default_rate - br.iloc[0]\n",
    "        aa['diff'] = bb.abs()\n",
    "        aa = aa.sort_values('diff')\n",
    "        imp = aa.iloc[1,2]\n",
    "        tmp[col] = tmp[col].fillna(imp)\n",
    "    \n",
    "    return tmp"
   ]
  },
  {
   "cell_type": "code",
   "execution_count": 19,
   "metadata": {},
   "outputs": [],
   "source": [
    "tmp = missing_by_br(tmp, na_cols, label)"
   ]
  },
  {
   "cell_type": "code",
   "execution_count": 20,
   "metadata": {},
   "outputs": [],
   "source": [
    "from sklearn.linear_model import LogisticRegression\n",
    "auc_df = pd.DataFrame()\n",
    "for col in tmp.columns[:-2]:\n",
    "    clf = LogisticRegression()\n",
    "    X = tmp[col].values.reshape(-1,1)\n",
    "    y = tmp['loan_status'].values\n",
    "    clf.fit(X, y)\n",
    "    y_pred = clf.predict_proba(X)[::,1]\n",
    "    fpr, tpr, _ = metrics.roc_curve(y,  y_pred)\n",
    "    auc = metrics.roc_auc_score(y, y_pred)\n",
    "    auc_df.loc[col, 'AUC'] = auc\n"
   ]
  },
  {
   "cell_type": "code",
   "execution_count": 21,
   "metadata": {},
   "outputs": [],
   "source": [
    "auc_df.sort_values('AUC', ascending=False, inplace=True)"
   ]
  },
  {
   "cell_type": "code",
   "execution_count": 22,
   "metadata": {},
   "outputs": [
    {
     "data": {
      "text/html": [
       "<div>\n",
       "<style scoped>\n",
       "    .dataframe tbody tr th:only-of-type {\n",
       "        vertical-align: middle;\n",
       "    }\n",
       "\n",
       "    .dataframe tbody tr th {\n",
       "        vertical-align: top;\n",
       "    }\n",
       "\n",
       "    .dataframe thead th {\n",
       "        text-align: right;\n",
       "    }\n",
       "</style>\n",
       "<table border=\"1\" class=\"dataframe\">\n",
       "  <thead>\n",
       "    <tr style=\"text-align: right;\">\n",
       "      <th></th>\n",
       "      <th>AUC</th>\n",
       "    </tr>\n",
       "  </thead>\n",
       "  <tbody>\n",
       "    <tr>\n",
       "      <th>tot_hi_cred_lim</th>\n",
       "      <td>0.599734</td>\n",
       "    </tr>\n",
       "    <tr>\n",
       "      <th>mort_acc</th>\n",
       "      <td>0.583598</td>\n",
       "    </tr>\n",
       "    <tr>\n",
       "      <th>avg_cur_bal</th>\n",
       "      <td>0.581996</td>\n",
       "    </tr>\n",
       "    <tr>\n",
       "      <th>fico_range_low</th>\n",
       "      <td>0.581579</td>\n",
       "    </tr>\n",
       "    <tr>\n",
       "      <th>loan_amnt</th>\n",
       "      <td>0.577420</td>\n",
       "    </tr>\n",
       "  </tbody>\n",
       "</table>\n",
       "</div>"
      ],
      "text/plain": [
       "                      AUC\n",
       "tot_hi_cred_lim  0.599734\n",
       "mort_acc         0.583598\n",
       "avg_cur_bal      0.581996\n",
       "fico_range_low   0.581579\n",
       "loan_amnt        0.577420"
      ]
     },
     "execution_count": 22,
     "metadata": {},
     "output_type": "execute_result"
    }
   ],
   "source": [
    "auc_df.head(5)"
   ]
  },
  {
   "cell_type": "markdown",
   "metadata": {},
   "source": [
    "#### 5.4 Feature importance"
   ]
  },
  {
   "cell_type": "code",
   "execution_count": 23,
   "metadata": {},
   "outputs": [],
   "source": [
    "xgb1 = xgb.XGBClassifier(\n",
    "    learning_rate =0.01,\n",
    "    n_estimators=100,\n",
    "    max_depth=3,\n",
    "    min_child_weight=3,\n",
    "    gamma=0.4,\n",
    "    subsample=0.8,\n",
    "    colsample_bytree=0.8,\n",
    "    reg_alpha=1e-5,\n",
    "    objective= 'binary:logistic',\n",
    "    verbosity = 0,\n",
    "    nthread=4,\n",
    "    scale_pos_weight=1,\n",
    "    seed=27)"
   ]
  },
  {
   "cell_type": "code",
   "execution_count": 24,
   "metadata": {},
   "outputs": [],
   "source": [
    "xgb1.fit(X_train, y_train);"
   ]
  },
  {
   "cell_type": "code",
   "execution_count": 25,
   "metadata": {},
   "outputs": [
    {
     "data": {
      "image/png": "[encoded data removed]",
      "text/plain": [
       "<Figure size 864x360 with 1 Axes>"
      ]
     },
     "metadata": {},
     "output_type": "display_data"
    }
   ],
   "source": [
    "fig, ax = plt.subplots(figsize=(12,5))\n",
    "xgb.plot_importance(xgb1, max_num_features=15, height=0.8, importance_type='gain', ax=ax)\n",
    "plt.show()"
   ]
  },
  {
   "cell_type": "code",
   "execution_count": 26,
   "metadata": {},
   "outputs": [],
   "source": [
    "sorted_idx = np.argsort(xgb1.feature_importances_)[::-1]\n",
    "ft = pd.DataFrame()\n",
    "for index in sorted_idx:\n",
    "    ft.loc[X_train.columns[index], 'feature_imprt'] = xgb1.feature_importances_[index]"
   ]
  },
  {
   "cell_type": "code",
   "execution_count": 27,
   "metadata": {},
   "outputs": [
    {
     "data": {
      "text/html": [
       "<div>\n",
       "<style scoped>\n",
       "    .dataframe tbody tr th:only-of-type {\n",
       "        vertical-align: middle;\n",
       "    }\n",
       "\n",
       "    .dataframe tbody tr th {\n",
       "        vertical-align: top;\n",
       "    }\n",
       "\n",
       "    .dataframe thead th {\n",
       "        text-align: right;\n",
       "    }\n",
       "</style>\n",
       "<table border=\"1\" class=\"dataframe\">\n",
       "  <thead>\n",
       "    <tr style=\"text-align: right;\">\n",
       "      <th></th>\n",
       "      <th>feature_imprt</th>\n",
       "    </tr>\n",
       "  </thead>\n",
       "  <tbody>\n",
       "    <tr>\n",
       "      <th>home_ownership</th>\n",
       "      <td>0.087857</td>\n",
       "    </tr>\n",
       "    <tr>\n",
       "      <th>tot_hi_cred_lim</th>\n",
       "      <td>0.087678</td>\n",
       "    </tr>\n",
       "    <tr>\n",
       "      <th>term</th>\n",
       "      <td>0.081593</td>\n",
       "    </tr>\n",
       "    <tr>\n",
       "      <th>mort_acc</th>\n",
       "      <td>0.070308</td>\n",
       "    </tr>\n",
       "    <tr>\n",
       "      <th>loan_amnt</th>\n",
       "      <td>0.052443</td>\n",
       "    </tr>\n",
       "  </tbody>\n",
       "</table>\n",
       "</div>"
      ],
      "text/plain": [
       "                 feature_imprt\n",
       "home_ownership        0.087857\n",
       "tot_hi_cred_lim       0.087678\n",
       "term                  0.081593\n",
       "mort_acc              0.070308\n",
       "loan_amnt             0.052443"
      ]
     },
     "execution_count": 27,
     "metadata": {},
     "output_type": "execute_result"
    }
   ],
   "source": [
    "ft.head(5)"
   ]
  },
  {
   "cell_type": "markdown",
   "metadata": {},
   "source": [
    "#### Generate the short list"
   ]
  },
  {
   "cell_type": "code",
   "execution_count": 28,
   "metadata": {},
   "outputs": [],
   "source": [
    "short_cols = pd.concat([pd.Series(auc_df.index[:20]), linear_dep.variable[:20], pd.Series(ft.index[:20]) ], axis=0).unique()"
   ]
  },
  {
   "cell_type": "code",
   "execution_count": 29,
   "metadata": {},
   "outputs": [
    {
     "data": {
      "text/plain": [
       "array(['tot_hi_cred_lim', 'mort_acc', 'avg_cur_bal', 'fico_range_low',\n",
       "       'loan_amnt', 'bc_open_to_buy', 'term', 'home_ownership',\n",
       "       'total_acc', 'num_il_tl', 'total_rev_hi_lim', 'revol_util',\n",
       "       'mo_sin_old_il_acct', 'mths_since_recent_inq', 'emp_length',\n",
       "       'inq_last_6mths', 'dti', 'all_util', 'annual_inc', 'open_il_24m',\n",
       "       'emp_length_present', 'mo_sin_old_il_acct_present',\n",
       "       'mths_since_rcnt_il_present', 'mths_since_last_major_derog',\n",
       "       'max_bal_bc', 'mths_since_rcnt_il', 'revol_bal'], dtype=object)"
      ]
     },
     "execution_count": 29,
     "metadata": {},
     "output_type": "execute_result"
    }
   ],
   "source": [
    "short_cols"
   ]
  },
  {
   "cell_type": "code",
   "execution_count": null,
   "metadata": {},
   "outputs": [],
   "source": []
  }
 ],
 "metadata": {
  "kernelspec": {
   "display_name": "Python 3",
   "language": "python",
   "name": "python3"
  },
  "language_info": {
   "codemirror_mode": {
    "name": "ipython",
    "version": 3
   },
   "file_extension": ".py",
   "mimetype": "text/x-python",
   "name": "python",
   "nbconvert_exporter": "python",
   "pygments_lexer": "ipython3",
   "version": "3.7.7"
  }
 },
 "nbformat": 4,
 "nbformat_minor": 4
}
